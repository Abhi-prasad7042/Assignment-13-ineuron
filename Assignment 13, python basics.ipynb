{
 "cells": [
  {
   "cell_type": "markdown",
   "id": "e198d928",
   "metadata": {},
   "source": [
    "### Question1\n",
    "\n",
    "What advantages do Excel spreadsheets have over CSV spreadsheets?\n",
    "\n",
    "### Answer:-\n",
    "\n",
    "There are lots of advantages of excel over csv like in excel we can store data in charts or image formate, cells have different fonts, sizes and color and excel files can not be edited or opened by text editor and it is difficult to manipulate the excel file by programmatically."
   ]
  },
  {
   "cell_type": "markdown",
   "id": "3b58cce1",
   "metadata": {},
   "source": [
    "### Question2\n",
    "\n",
    "What do you pass to csv.reader() and csv.writer() to create reader and writer objects?\n",
    "\n",
    "### Answer:-\n",
    "\n",
    "We'll pass the file object that is created by the open() function."
   ]
  },
  {
   "cell_type": "code",
   "execution_count": 10,
   "id": "fe2b7a45",
   "metadata": {},
   "outputs": [
    {
     "name": "stdout",
     "output_type": "stream",
     "text": [
      "['This how a csv.reader() is reads the file.']\n"
     ]
    }
   ],
   "source": [
    "import csv\n",
    "\n",
    "with open(\"text.txt\", \"r\") as f:\n",
    "    a = csv.reader(f)\n",
    "    for i in a:\n",
    "        print(i)"
   ]
  },
  {
   "cell_type": "markdown",
   "id": "95836409",
   "metadata": {},
   "source": [
    "### Question3\n",
    "\n",
    "What modes do File objects for reader and writer objects need to be opened in?\n",
    "\n",
    "### Answer:-\n",
    "\n",
    "File objects needs `r` mode for reader and `w` mode for writer."
   ]
  },
  {
   "cell_type": "markdown",
   "id": "e79e9d9b",
   "metadata": {},
   "source": [
    "### Question4\n",
    "\n",
    "What method takes a list argument and writes it to a CSV file?\n",
    "\n",
    "### Answer:-\n",
    "\n",
    "`writerow` takes a list argument and writes it to a csv file."
   ]
  },
  {
   "cell_type": "code",
   "execution_count": 11,
   "id": "d2077dcb",
   "metadata": {},
   "outputs": [],
   "source": [
    "with open(\"newtext.txt\",\"w\") as f:\n",
    "    wrt = csv.writer(f)\n",
    "    wrt.writerow([1,2,3,4,5])"
   ]
  },
  {
   "cell_type": "code",
   "execution_count": 12,
   "id": "a089d4bb",
   "metadata": {},
   "outputs": [
    {
     "name": "stdout",
     "output_type": "stream",
     "text": [
      "['1', '2', '3', '4', '5']\n",
      "[]\n"
     ]
    }
   ],
   "source": [
    "import csv\n",
    "\n",
    "with open(\"newtext.txt\", \"r\") as f:\n",
    "    a = csv.reader(f)\n",
    "    for i in a:\n",
    "        print(i)"
   ]
  },
  {
   "cell_type": "markdown",
   "id": "40f1ad9f",
   "metadata": {},
   "source": [
    "### Question5\n",
    "\n",
    "What do you the keyword arguments delimiter and line terminator do?\n",
    "\n",
    "### Answer:-\n",
    "\n",
    "`delimiter` breaks values into rows and `lineterminator` is a string used to terminate lines the default value is \\r\\n."
   ]
  },
  {
   "cell_type": "markdown",
   "id": "d123cd9e",
   "metadata": {},
   "source": [
    "### Question6\n",
    "\n",
    "What function takes a string of JSON data and returns a Python data structure?\n",
    "\n",
    "### Answer:-\n",
    "\n",
    "`json.loads()` takes a string of JSON and return python data structure"
   ]
  },
  {
   "cell_type": "code",
   "execution_count": 29,
   "id": "d7365b45",
   "metadata": {},
   "outputs": [],
   "source": [
    "x = \"\"\"{\n",
    "    \"a\": 10,\n",
    "    \"b\": 78,\n",
    "    \"c\": 45,\n",
    "    \"name\":[\"Abhi\", \"Ram\", \"Lord\"]\n",
    "    }\"\"\""
   ]
  },
  {
   "cell_type": "code",
   "execution_count": 30,
   "id": "15ac8a7b",
   "metadata": {},
   "outputs": [
    {
     "data": {
      "text/plain": [
       "{'a': 10, 'b': 78, 'c': 45, 'name': ['Abhi', 'Ram', 'Lord']}"
      ]
     },
     "execution_count": 30,
     "metadata": {},
     "output_type": "execute_result"
    }
   ],
   "source": [
    "import json\n",
    "json.loads(x)"
   ]
  },
  {
   "cell_type": "code",
   "execution_count": 31,
   "id": "b7917766",
   "metadata": {},
   "outputs": [
    {
     "data": {
      "text/plain": [
       "dict"
      ]
     },
     "execution_count": 31,
     "metadata": {},
     "output_type": "execute_result"
    }
   ],
   "source": [
    "type(json.loads(x))"
   ]
  },
  {
   "cell_type": "markdown",
   "id": "16aaee9a",
   "metadata": {},
   "source": [
    "### Question7\n",
    "\n",
    "What function takes a Python data structure and returns a string of JSON data?\n",
    "\n",
    "### Answer:-\n",
    "\n",
    "`json.dumps()` takes python data structure and returns a json data."
   ]
  },
  {
   "cell_type": "code",
   "execution_count": 32,
   "id": "a0041592",
   "metadata": {},
   "outputs": [],
   "source": [
    "x = {\n",
    "    \"a\": 10,\n",
    "    \"b\": 78,\n",
    "    \"c\": 45,\n",
    "    \"name\":[\"Abhi\", \"Ram\", \"Lord\"]\n",
    "    }"
   ]
  },
  {
   "cell_type": "code",
   "execution_count": 36,
   "id": "2f2ee28d",
   "metadata": {},
   "outputs": [
    {
     "data": {
      "text/plain": [
       "'{\"a\": 10, \"b\": 78, \"c\": 45, \"name\": [\"Abhi\", \"Ram\", \"Lord\"]}'"
      ]
     },
     "execution_count": 36,
     "metadata": {},
     "output_type": "execute_result"
    }
   ],
   "source": [
    "json.dumps(x)"
   ]
  },
  {
   "cell_type": "code",
   "execution_count": 35,
   "id": "3daea6b2",
   "metadata": {},
   "outputs": [
    {
     "data": {
      "text/plain": [
       "str"
      ]
     },
     "execution_count": 35,
     "metadata": {},
     "output_type": "execute_result"
    }
   ],
   "source": [
    "type(json.dumps(x))"
   ]
  }
 ],
 "metadata": {
  "kernelspec": {
   "display_name": "Python 3 (ipykernel)",
   "language": "python",
   "name": "python3"
  },
  "language_info": {
   "codemirror_mode": {
    "name": "ipython",
    "version": 3
   },
   "file_extension": ".py",
   "mimetype": "text/x-python",
   "name": "python",
   "nbconvert_exporter": "python",
   "pygments_lexer": "ipython3",
   "version": "3.8.11"
  }
 },
 "nbformat": 4,
 "nbformat_minor": 5
}
